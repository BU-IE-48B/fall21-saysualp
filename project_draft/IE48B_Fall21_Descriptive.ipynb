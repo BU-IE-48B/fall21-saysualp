{
 "cells": [
  {
   "cell_type": "code",
   "execution_count": 1,
   "metadata": {},
   "outputs": [
    {
     "name": "stderr",
     "output_type": "stream",
     "text": [
      "Loading required package: repr\n",
      "Loading required package: ggplot2\n",
      "Registered S3 methods overwritten by 'tibble':\n",
      "  method     from  \n",
      "  format.tbl pillar\n",
      "  print.tbl  pillar\n"
     ]
    }
   ],
   "source": [
    "require(repr)\n",
    "require(ggplot2)\n",
    "\n",
    "options(repr.plot.width=15, repr.plot.height=8)"
   ]
  },
  {
   "cell_type": "code",
   "execution_count": 2,
   "metadata": {},
   "outputs": [
    {
     "name": "stderr",
     "output_type": "stream",
     "text": [
      "Loading required package: data.table\n",
      "Warning message:\n",
      "\"package 'data.table' was built under R version 3.6.3\"Loading required package: lubridate\n",
      "Warning message:\n",
      "\"package 'lubridate' was built under R version 3.6.3\"\n",
      "Attaching package: 'lubridate'\n",
      "\n",
      "The following objects are masked from 'package:data.table':\n",
      "\n",
      "    hour, isoweek, mday, minute, month, quarter, second, wday, week,\n",
      "    yday, year\n",
      "\n",
      "The following objects are masked from 'package:base':\n",
      "\n",
      "    date, intersect, setdiff, union\n",
      "\n",
      "Warning message in strptime(date, \"%d/%m/%Y\"):\n",
      "\"strptime() usage detected and wrapped with as.POSIXct(). This is to minimize the chance of assigning POSIXlt columns, which use 40+ bytes to store one date (versus 8 for POSIXct). Use as.POSIXct() (which will call strptime() as needed internally) to avoid this warning.\"Warning message in strptime(date, \"%d/%m/%Y\"):\n",
      "\"strptime() usage detected and wrapped with as.POSIXct(). This is to minimize the chance of assigning POSIXlt columns, which use 40+ bytes to store one date (versus 8 for POSIXct). Use as.POSIXct() (which will call strptime() as needed internally) to avoid this warning.\""
     ]
    }
   ],
   "source": [
    "current_folder = getwd()\n",
    "\n",
    "require(data.table)\n",
    "require(lubridate)\n",
    "\n",
    "dat = fread('YAT-01012019-10122021.csv')\n",
    "\n",
    "setnames(dat,names(dat),c('date','hour','yat_one','yat_two','yat_three'))\n",
    "dat[,datex:=strptime(date,'%d/%m/%Y')]\n",
    "\n",
    "dat[,tst:=ymd_hm(paste(datex,hour))]\n",
    "dat[,date:=date(tst)]\n",
    "dat[,hour:=hour(tst)]\n",
    "\n",
    "dat[,yat_one_t:=gsub('\\\\.','',yat_one)]\n",
    "dat[,yat_two_t:=gsub('\\\\.','',yat_two)]\n",
    "dat[,yat_three_t:=gsub('\\\\.','',yat_three)]\n",
    "\n",
    "\n",
    "dat[,yat_one:=as.numeric(gsub(',','.',yat_one_t))]\n",
    "dat[,yat_two:=as.numeric(gsub(',','.',yat_two_t))]\n",
    "dat[,yat_three:=as.numeric(gsub(',','.',yat_three_t))]\n",
    "\n",
    "\n",
    "yat_dat = dat[,list(date,hour,yat_one,yat_two,yat_three)]\n",
    "\n",
    "\n",
    "dat=fread('YAL-01012019-10122021.csv')\n",
    "\n",
    "# naming is temporary here, used the same set of codes\n",
    "setnames(dat,names(dat),c('date','hour','yat_one','yat_two','yat_three'))\n",
    "dat[,datex:=strptime(date,'%d/%m/%Y')]\n",
    "\n",
    "dat[,tst:=ymd_hm(paste(datex,hour))]\n",
    "dat[,date:=date(tst)]\n",
    "dat[,hour:=hour(tst)]\n",
    "\n",
    "dat[,yat_one_t:=gsub('\\\\.','',yat_one)]\n",
    "dat[,yat_two_t:=gsub('\\\\.','',yat_two)]\n",
    "dat[,yat_three_t:=gsub('\\\\.','',yat_three)]\n",
    "\n",
    "\n",
    "dat[,yal_one:=as.numeric(gsub(',','.',yat_one_t))]\n",
    "dat[,yal_two:=as.numeric(gsub(',','.',yat_two_t))]\n",
    "dat[,yal_three:=as.numeric(gsub(',','.',yat_three_t))]\n",
    "\n",
    "\n",
    "yal_dat = dat[,list(date,hour,yal_one,yal_two,yal_three)]\n",
    "\n",
    "final_dat = merge(yat_dat,\n",
    "                  yal_dat,\n",
    "                  by=c(\"date\",\"hour\"),\n",
    "                  all=FALSE)\n",
    "\n",
    "total_vol = final_dat[, list(yat_vol = yat_one + yat_two + yat_three,\n",
    "                             yal_vol = yal_one + yal_two + yal_three,\n",
    "                             diff = (yat_one + yat_two + yat_three) - (yal_one + yal_two + yal_three)), by=c(\"date\", \"hour\")]\n",
    "\n",
    "total_vol[, direction:=ifelse(diff>50, \"surplus\", ifelse(diff<(-50),\"deficit\", \"balanced\"))]"
   ]
  },
  {
   "cell_type": "code",
   "execution_count": 7,
   "metadata": {},
   "outputs": [
    {
     "data": {
      "text/html": [
       "<dl>\n",
       "\t<dt>$date</dt>\n",
       "\t\t<dd>0</dd>\n",
       "\t<dt>$hour</dt>\n",
       "\t\t<dd>0</dd>\n",
       "\t<dt>$yat_vol</dt>\n",
       "\t\t<dd>0</dd>\n",
       "\t<dt>$yal_vol</dt>\n",
       "\t\t<dd>0</dd>\n",
       "\t<dt>$diff</dt>\n",
       "\t\t<dd>0</dd>\n",
       "\t<dt>$direction</dt>\n",
       "\t\t<dd>0</dd>\n",
       "</dl>\n"
      ],
      "text/latex": [
       "\\begin{description}\n",
       "\\item[\\$date] 0\n",
       "\\item[\\$hour] 0\n",
       "\\item[\\$yat\\_vol] 0\n",
       "\\item[\\$yal\\_vol] 0\n",
       "\\item[\\$diff] 0\n",
       "\\item[\\$direction] 0\n",
       "\\end{description}\n"
      ],
      "text/markdown": [
       "$date\n",
       ":   0\n",
       "$hour\n",
       ":   0\n",
       "$yat_vol\n",
       ":   0\n",
       "$yal_vol\n",
       ":   0\n",
       "$diff\n",
       ":   0\n",
       "$direction\n",
       ":   0\n",
       "\n",
       "\n"
      ],
      "text/plain": [
       "$date\n",
       "[1] 0\n",
       "\n",
       "$hour\n",
       "[1] 0\n",
       "\n",
       "$yat_vol\n",
       "[1] 0\n",
       "\n",
       "$yal_vol\n",
       "[1] 0\n",
       "\n",
       "$diff\n",
       "[1] 0\n",
       "\n",
       "$direction\n",
       "[1] 0\n"
      ]
     },
     "metadata": {},
     "output_type": "display_data"
    }
   ],
   "source": [
    "lapply(total_vol, function(x) sum(is.na(x)))"
   ]
  },
  {
   "cell_type": "code",
   "execution_count": 6,
   "metadata": {
    "scrolled": true
   },
   "outputs": [],
   "source": [
    "long = melt(total_vol, id=\"date\", measure=c(\"yat_vol\", \"yal_vol\", \"diff\"))"
   ]
  },
  {
   "cell_type": "code",
   "execution_count": 98,
   "metadata": {},
   "outputs": [
    {
     "data": {
      "image/png": "[encoded data removed]",
      "text/plain": [
       "plot without title"
      ]
     },
     "metadata": {},
     "output_type": "display_data"
    }
   ],
   "source": [
    "ggplot(long[variable==\"diff\",], aes(date, value)) + \n",
    "    geom_line() + \n",
    "    scale_x_date(date_labels=\"%b-%y\", date_breaks=\"1 month\") +\n",
    "    theme(axis.text.x = element_text(angle = 60, hjust = 1))"
   ]
  },
  {
   "cell_type": "code",
   "execution_count": 80,
   "metadata": {},
   "outputs": [
    {
     "data": {
      "image/png": "[encoded data removed]",
      "text/plain": [
       "plot without title"
      ]
     },
     "metadata": {},
     "output_type": "display_data"
    }
   ],
   "source": [
    "ggplot(long[variable==\"diff\",], aes(value)) + geom_histogram(binwidth=200)"
   ]
  },
  {
   "cell_type": "code",
   "execution_count": 81,
   "metadata": {},
   "outputs": [
    {
     "data": {
      "image/png": "[encoded data removed]",
      "text/plain": [
       "plot without title"
      ]
     },
     "metadata": {},
     "output_type": "display_data"
    }
   ],
   "source": [
    "ggplot(long[variable==\"diff\",], aes(value)) + geom_histogram(binwidth=200,  aes(y=..density..)) + stat_function(fun = dnorm, args = list(mean = mean(total_vol$diff), sd = sd(total_vol$diff)))"
   ]
  },
  {
   "cell_type": "code",
   "execution_count": 119,
   "metadata": {},
   "outputs": [],
   "source": [
    "total_vol[,month:=month(date)][,year:=year(date)][,weekday:=weekdays(date)]"
   ]
  },
  {
   "cell_type": "code",
   "execution_count": 127,
   "metadata": {},
   "outputs": [
    {
     "data": {
      "text/html": [
       "<table>\n",
       "<thead><tr><th scope=col>month</th><th scope=col>balanced</th><th scope=col>deficit</th><th scope=col>surplus</th></tr></thead>\n",
       "<tbody>\n",
       "\t<tr><td> 1  </td><td>186 </td><td>1053</td><td>993 </td></tr>\n",
       "\t<tr><td> 2  </td><td>175 </td><td>1084</td><td>781 </td></tr>\n",
       "\t<tr><td> 3  </td><td>142 </td><td>1115</td><td>975 </td></tr>\n",
       "\t<tr><td> 4  </td><td>171 </td><td>1011</td><td>978 </td></tr>\n",
       "\t<tr><td> 5  </td><td>154 </td><td>1233</td><td>845 </td></tr>\n",
       "\t<tr><td> 6  </td><td>173 </td><td>1339</td><td>648 </td></tr>\n",
       "\t<tr><td> 7  </td><td>138 </td><td>1476</td><td>618 </td></tr>\n",
       "\t<tr><td> 8  </td><td>135 </td><td>1396</td><td>701 </td></tr>\n",
       "\t<tr><td> 9  </td><td>225 </td><td>1121</td><td>814 </td></tr>\n",
       "\t<tr><td>10  </td><td>306 </td><td>1305</td><td>621 </td></tr>\n",
       "\t<tr><td>11  </td><td>214 </td><td>1302</td><td>644 </td></tr>\n",
       "\t<tr><td>12  </td><td>166 </td><td> 933</td><td>629 </td></tr>\n",
       "</tbody>\n",
       "</table>\n"
      ],
      "text/latex": [
       "\\begin{tabular}{r|llll}\n",
       " month & balanced & deficit & surplus\\\\\n",
       "\\hline\n",
       "\t  1   & 186  & 1053 & 993 \\\\\n",
       "\t  2   & 175  & 1084 & 781 \\\\\n",
       "\t  3   & 142  & 1115 & 975 \\\\\n",
       "\t  4   & 171  & 1011 & 978 \\\\\n",
       "\t  5   & 154  & 1233 & 845 \\\\\n",
       "\t  6   & 173  & 1339 & 648 \\\\\n",
       "\t  7   & 138  & 1476 & 618 \\\\\n",
       "\t  8   & 135  & 1396 & 701 \\\\\n",
       "\t  9   & 225  & 1121 & 814 \\\\\n",
       "\t 10   & 306  & 1305 & 621 \\\\\n",
       "\t 11   & 214  & 1302 & 644 \\\\\n",
       "\t 12   & 166  &  933 & 629 \\\\\n",
       "\\end{tabular}\n"
      ],
      "text/markdown": [
       "\n",
       "| month | balanced | deficit | surplus |\n",
       "|---|---|---|---|\n",
       "|  1   | 186  | 1053 | 993  |\n",
       "|  2   | 175  | 1084 | 781  |\n",
       "|  3   | 142  | 1115 | 975  |\n",
       "|  4   | 171  | 1011 | 978  |\n",
       "|  5   | 154  | 1233 | 845  |\n",
       "|  6   | 173  | 1339 | 648  |\n",
       "|  7   | 138  | 1476 | 618  |\n",
       "|  8   | 135  | 1396 | 701  |\n",
       "|  9   | 225  | 1121 | 814  |\n",
       "| 10   | 306  | 1305 | 621  |\n",
       "| 11   | 214  | 1302 | 644  |\n",
       "| 12   | 166  |  933 | 629  |\n",
       "\n"
      ],
      "text/plain": [
       "   month balanced deficit surplus\n",
       "1   1    186      1053    993    \n",
       "2   2    175      1084    781    \n",
       "3   3    142      1115    975    \n",
       "4   4    171      1011    978    \n",
       "5   5    154      1233    845    \n",
       "6   6    173      1339    648    \n",
       "7   7    138      1476    618    \n",
       "8   8    135      1396    701    \n",
       "9   9    225      1121    814    \n",
       "10 10    306      1305    621    \n",
       "11 11    214      1302    644    \n",
       "12 12    166       933    629    "
      ]
     },
     "metadata": {},
     "output_type": "display_data"
    }
   ],
   "source": [
    "dcast(total_vol[,.N,by=c(\"direction\",\"month\")], month ~ direction, value.var=\"N\")"
   ]
  },
  {
   "cell_type": "code",
   "execution_count": 128,
   "metadata": {},
   "outputs": [
    {
     "data": {
      "text/html": [
       "<table>\n",
       "<thead><tr><th scope=col>hour</th><th scope=col>balanced</th><th scope=col>deficit</th><th scope=col>surplus</th></tr></thead>\n",
       "<tbody>\n",
       "\t<tr><td> 0 </td><td> 67</td><td>546</td><td>462</td></tr>\n",
       "\t<tr><td> 1 </td><td> 82</td><td>663</td><td>330</td></tr>\n",
       "\t<tr><td> 2 </td><td>134</td><td>591</td><td>350</td></tr>\n",
       "\t<tr><td> 3 </td><td>160</td><td>529</td><td>386</td></tr>\n",
       "\t<tr><td> 4 </td><td>180</td><td>467</td><td>428</td></tr>\n",
       "\t<tr><td> 5 </td><td>149</td><td>495</td><td>431</td></tr>\n",
       "\t<tr><td> 6 </td><td>127</td><td>455</td><td>493</td></tr>\n",
       "\t<tr><td> 7 </td><td> 73</td><td>512</td><td>490</td></tr>\n",
       "\t<tr><td> 8 </td><td> 51</td><td>584</td><td>440</td></tr>\n",
       "\t<tr><td> 9 </td><td> 79</td><td>667</td><td>329</td></tr>\n",
       "\t<tr><td>10 </td><td> 68</td><td>630</td><td>377</td></tr>\n",
       "\t<tr><td>11 </td><td> 79</td><td>666</td><td>330</td></tr>\n",
       "\t<tr><td>12 </td><td> 74</td><td>595</td><td>406</td></tr>\n",
       "\t<tr><td>13 </td><td> 69</td><td>560</td><td>446</td></tr>\n",
       "\t<tr><td>14 </td><td>107</td><td>650</td><td>318</td></tr>\n",
       "\t<tr><td>15 </td><td> 97</td><td>625</td><td>353</td></tr>\n",
       "\t<tr><td>16 </td><td> 77</td><td>625</td><td>373</td></tr>\n",
       "\t<tr><td>17 </td><td> 83</td><td>643</td><td>349</td></tr>\n",
       "\t<tr><td>18 </td><td> 74</td><td>659</td><td>342</td></tr>\n",
       "\t<tr><td>19 </td><td> 63</td><td>673</td><td>339</td></tr>\n",
       "\t<tr><td>20 </td><td> 68</td><td>651</td><td>356</td></tr>\n",
       "\t<tr><td>21 </td><td> 82</td><td>653</td><td>340</td></tr>\n",
       "\t<tr><td>22 </td><td> 78</td><td>618</td><td>379</td></tr>\n",
       "\t<tr><td>23 </td><td> 64</td><td>611</td><td>400</td></tr>\n",
       "</tbody>\n",
       "</table>\n"
      ],
      "text/latex": [
       "\\begin{tabular}{r|llll}\n",
       " hour & balanced & deficit & surplus\\\\\n",
       "\\hline\n",
       "\t  0  &  67 & 546 & 462\\\\\n",
       "\t  1  &  82 & 663 & 330\\\\\n",
       "\t  2  & 134 & 591 & 350\\\\\n",
       "\t  3  & 160 & 529 & 386\\\\\n",
       "\t  4  & 180 & 467 & 428\\\\\n",
       "\t  5  & 149 & 495 & 431\\\\\n",
       "\t  6  & 127 & 455 & 493\\\\\n",
       "\t  7  &  73 & 512 & 490\\\\\n",
       "\t  8  &  51 & 584 & 440\\\\\n",
       "\t  9  &  79 & 667 & 329\\\\\n",
       "\t 10  &  68 & 630 & 377\\\\\n",
       "\t 11  &  79 & 666 & 330\\\\\n",
       "\t 12  &  74 & 595 & 406\\\\\n",
       "\t 13  &  69 & 560 & 446\\\\\n",
       "\t 14  & 107 & 650 & 318\\\\\n",
       "\t 15  &  97 & 625 & 353\\\\\n",
       "\t 16  &  77 & 625 & 373\\\\\n",
       "\t 17  &  83 & 643 & 349\\\\\n",
       "\t 18  &  74 & 659 & 342\\\\\n",
       "\t 19  &  63 & 673 & 339\\\\\n",
       "\t 20  &  68 & 651 & 356\\\\\n",
       "\t 21  &  82 & 653 & 340\\\\\n",
       "\t 22  &  78 & 618 & 379\\\\\n",
       "\t 23  &  64 & 611 & 400\\\\\n",
       "\\end{tabular}\n"
      ],
      "text/markdown": [
       "\n",
       "| hour | balanced | deficit | surplus |\n",
       "|---|---|---|---|\n",
       "|  0  |  67 | 546 | 462 |\n",
       "|  1  |  82 | 663 | 330 |\n",
       "|  2  | 134 | 591 | 350 |\n",
       "|  3  | 160 | 529 | 386 |\n",
       "|  4  | 180 | 467 | 428 |\n",
       "|  5  | 149 | 495 | 431 |\n",
       "|  6  | 127 | 455 | 493 |\n",
       "|  7  |  73 | 512 | 490 |\n",
       "|  8  |  51 | 584 | 440 |\n",
       "|  9  |  79 | 667 | 329 |\n",
       "| 10  |  68 | 630 | 377 |\n",
       "| 11  |  79 | 666 | 330 |\n",
       "| 12  |  74 | 595 | 406 |\n",
       "| 13  |  69 | 560 | 446 |\n",
       "| 14  | 107 | 650 | 318 |\n",
       "| 15  |  97 | 625 | 353 |\n",
       "| 16  |  77 | 625 | 373 |\n",
       "| 17  |  83 | 643 | 349 |\n",
       "| 18  |  74 | 659 | 342 |\n",
       "| 19  |  63 | 673 | 339 |\n",
       "| 20  |  68 | 651 | 356 |\n",
       "| 21  |  82 | 653 | 340 |\n",
       "| 22  |  78 | 618 | 379 |\n",
       "| 23  |  64 | 611 | 400 |\n",
       "\n"
      ],
      "text/plain": [
       "   hour balanced deficit surplus\n",
       "1   0    67      546     462    \n",
       "2   1    82      663     330    \n",
       "3   2   134      591     350    \n",
       "4   3   160      529     386    \n",
       "5   4   180      467     428    \n",
       "6   5   149      495     431    \n",
       "7   6   127      455     493    \n",
       "8   7    73      512     490    \n",
       "9   8    51      584     440    \n",
       "10  9    79      667     329    \n",
       "11 10    68      630     377    \n",
       "12 11    79      666     330    \n",
       "13 12    74      595     406    \n",
       "14 13    69      560     446    \n",
       "15 14   107      650     318    \n",
       "16 15    97      625     353    \n",
       "17 16    77      625     373    \n",
       "18 17    83      643     349    \n",
       "19 18    74      659     342    \n",
       "20 19    63      673     339    \n",
       "21 20    68      651     356    \n",
       "22 21    82      653     340    \n",
       "23 22    78      618     379    \n",
       "24 23    64      611     400    "
      ]
     },
     "metadata": {},
     "output_type": "display_data"
    }
   ],
   "source": [
    "dcast(total_vol[,.N,by=c(\"direction\",\"hour\")], hour ~ direction, value.var=\"N\")"
   ]
  },
  {
   "cell_type": "code",
   "execution_count": 134,
   "metadata": {},
   "outputs": [
    {
     "data": {
      "text/html": [
       "<table>\n",
       "<thead><tr><th scope=col>weekday</th><th scope=col>balanced</th><th scope=col>deficit</th><th scope=col>surplus</th></tr></thead>\n",
       "<tbody>\n",
       "\t<tr><td>Friday   </td><td>307      </td><td>2076     </td><td>1313     </td></tr>\n",
       "\t<tr><td>Monday   </td><td>227      </td><td>2161     </td><td>1284     </td></tr>\n",
       "\t<tr><td>Saturday </td><td>330      </td><td>2012     </td><td>1330     </td></tr>\n",
       "\t<tr><td>Sunday   </td><td>382      </td><td>1634     </td><td>1656     </td></tr>\n",
       "\t<tr><td>Thursday </td><td>308      </td><td>2167     </td><td>1221     </td></tr>\n",
       "\t<tr><td>Tuesday  </td><td>314      </td><td>2235     </td><td>1147     </td></tr>\n",
       "\t<tr><td>Wednesday</td><td>317      </td><td>2083     </td><td>1296     </td></tr>\n",
       "</tbody>\n",
       "</table>\n"
      ],
      "text/latex": [
       "\\begin{tabular}{r|llll}\n",
       " weekday & balanced & deficit & surplus\\\\\n",
       "\\hline\n",
       "\t Friday    & 307       & 2076      & 1313     \\\\\n",
       "\t Monday    & 227       & 2161      & 1284     \\\\\n",
       "\t Saturday  & 330       & 2012      & 1330     \\\\\n",
       "\t Sunday    & 382       & 1634      & 1656     \\\\\n",
       "\t Thursday  & 308       & 2167      & 1221     \\\\\n",
       "\t Tuesday   & 314       & 2235      & 1147     \\\\\n",
       "\t Wednesday & 317       & 2083      & 1296     \\\\\n",
       "\\end{tabular}\n"
      ],
      "text/markdown": [
       "\n",
       "| weekday | balanced | deficit | surplus |\n",
       "|---|---|---|---|\n",
       "| Friday    | 307       | 2076      | 1313      |\n",
       "| Monday    | 227       | 2161      | 1284      |\n",
       "| Saturday  | 330       | 2012      | 1330      |\n",
       "| Sunday    | 382       | 1634      | 1656      |\n",
       "| Thursday  | 308       | 2167      | 1221      |\n",
       "| Tuesday   | 314       | 2235      | 1147      |\n",
       "| Wednesday | 317       | 2083      | 1296      |\n",
       "\n"
      ],
      "text/plain": [
       "  weekday   balanced deficit surplus\n",
       "1 Friday    307      2076    1313   \n",
       "2 Monday    227      2161    1284   \n",
       "3 Saturday  330      2012    1330   \n",
       "4 Sunday    382      1634    1656   \n",
       "5 Thursday  308      2167    1221   \n",
       "6 Tuesday   314      2235    1147   \n",
       "7 Wednesday 317      2083    1296   "
      ]
     },
     "metadata": {},
     "output_type": "display_data"
    }
   ],
   "source": [
    "dcast(total_vol[,.N,by=c(\"direction\",\"weekday\")], weekday ~ direction, value.var=\"N\")"
   ]
  }
 ],
 "metadata": {
  "kernelspec": {
   "display_name": "R",
   "language": "R",
   "name": "ir"
  },
  "language_info": {
   "codemirror_mode": "r",
   "file_extension": ".r",
   "mimetype": "text/x-r-source",
   "name": "R",
   "pygments_lexer": "r",
   "version": "3.6.1"
  }
 },
 "nbformat": 4,
 "nbformat_minor": 4
}
