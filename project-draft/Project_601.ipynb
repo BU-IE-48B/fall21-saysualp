{
 "cells": [
  {
   "cell_type": "code",
   "execution_count": 1,
   "id": "409565d1",
   "metadata": {
    "scrolled": true
   },
   "outputs": [
    {
     "name": "stderr",
     "output_type": "stream",
     "text": [
      "Warning message:\n",
      "\"package 'data.table' was built under R version 3.6.3\"\n",
      "Attaching package: 'lubridate'\n",
      "\n",
      "The following objects are masked from 'package:data.table':\n",
      "\n",
      "    hour, isoweek, mday, minute, month, quarter, second, wday, week,\n",
      "    yday, year\n",
      "\n",
      "The following object is masked from 'package:base':\n",
      "\n",
      "    date\n",
      "\n",
      "Warning message:\n",
      "\"package 'partykit' was built under R version 3.6.3\"Loading required package: grid\n",
      "Loading required package: libcoin\n",
      "Warning message:\n",
      "\"package 'libcoin' was built under R version 3.6.3\"Loading required package: mvtnorm\n",
      "Warning message:\n",
      "\"package 'mvtnorm' was built under R version 3.6.3\"Registered S3 methods overwritten by 'ggplot2':\n",
      "  method         from \n",
      "  [.quosures     rlang\n",
      "  c.quosures     rlang\n",
      "  print.quosures rlang\n",
      "Warning message:\n",
      "\"package 'Metrics' was built under R version 3.6.3\"Warning message:\n",
      "\"package 'TSdist' was built under R version 3.6.3\"Loading required package: proxy\n",
      "Warning message:\n",
      "\"package 'proxy' was built under R version 3.6.3\"\n",
      "Attaching package: 'proxy'\n",
      "\n",
      "The following objects are masked from 'package:stats':\n",
      "\n",
      "    as.dist, dist\n",
      "\n",
      "The following object is masked from 'package:base':\n",
      "\n",
      "    as.matrix\n",
      "\n",
      "Registered S3 method overwritten by 'xts':\n",
      "  method     from\n",
      "  as.zoo.xts zoo \n",
      "Registered S3 method overwritten by 'quantmod':\n",
      "  method            from\n",
      "  as.zoo.data.frame zoo \n",
      "Loaded TSdist v3.7. See ?TSdist for help, citation(\"TSdist\") for use in publication.\n",
      "\n",
      "Warning message:\n",
      "\"package 'dtw' was built under R version 3.6.3\"Loaded dtw v1.22-3. See ?dtw for help, citation(\"dtw\") for use in publication.\n",
      "\n",
      "Warning message:\n",
      "\"package 'TSrepr' was built under R version 4.0.5\"\n",
      "Attaching package: 'TSrepr'\n",
      "\n",
      "The following objects are masked from 'package:Metrics':\n",
      "\n",
      "    mae, mape, mase, mdae, mse, rmse, smape\n",
      "\n",
      "Warning message:\n",
      "\"package 'TunePareto' was built under R version 3.6.3\"\n",
      "Attaching package: 'TunePareto'\n",
      "\n",
      "The following object is masked from 'package:lubridate':\n",
      "\n",
      "    as.interval\n",
      "\n",
      "Loading required package: lattice\n",
      "\n",
      "Attaching package: 'caret'\n",
      "\n",
      "The following objects are masked from 'package:Metrics':\n",
      "\n",
      "    precision, recall\n",
      "\n"
     ]
    }
   ],
   "source": [
    "library(data.table)\n",
    "library(repr)\n",
    "library(lubridate)\n",
    "library(rpart)\n",
    "library(partykit)\n",
    "library(ggplot2)\n",
    "library(Metrics)\n",
    "library(TSdist)\n",
    "library(dtw)\n",
    "library(TSrepr)\n",
    "library(TunePareto)\n",
    "library(caret)\n",
    "options(repr.plot.width=10, repr.plot.height=4)"
   ]
  },
  {
   "cell_type": "code",
   "execution_count": 2,
   "id": "989bae83",
   "metadata": {
    "scrolled": true
   },
   "outputs": [
    {
     "name": "stderr",
     "output_type": "stream",
     "text": [
      "Warning message in strptime(date, \"%d/%m/%Y\"):\n",
      "\"strptime() usage detected and wrapped with as.POSIXct(). This is to minimize the chance of assigning POSIXlt columns, which use 40+ bytes to store one date (versus 8 for POSIXct). Use as.POSIXct() (which will call strptime() as needed internally) to avoid this warning.\"Warning message in strptime(date, \"%d/%m/%Y\"):\n",
      "\"strptime() usage detected and wrapped with as.POSIXct(). This is to minimize the chance of assigning POSIXlt columns, which use 40+ bytes to store one date (versus 8 for POSIXct). Use as.POSIXct() (which will call strptime() as needed internally) to avoid this warning.\""
     ]
    }
   ],
   "source": [
    "current_folder = getwd()\n",
    "dat = fread('YAT-01012019-10122021.csv')\n",
    "setnames(dat,names(dat),c('date','hour','yat_one','yat_two','yat_three'))\n",
    "dat[,datex:=strptime(date,'%d/%m/%Y')]\n",
    "dat[,tst:=ymd_hm(paste(datex,hour))]\n",
    "dat[,date:=date(tst)]\n",
    "dat[,hour:=hour(tst)]\n",
    "dat[,yat_one_t:=gsub('\\\\.','',yat_one)]\n",
    "dat[,yat_two_t:=gsub('\\\\.','',yat_two)]\n",
    "dat[,yat_three_t:=gsub('\\\\.','',yat_three)]\n",
    "dat[,yat_one:=as.numeric(gsub(',','.',yat_one_t))]\n",
    "dat[,yat_two:=as.numeric(gsub(',','.',yat_two_t))]\n",
    "dat[,yat_three:=as.numeric(gsub(',','.',yat_three_t))]\n",
    "yat_dat = dat[,list(date,hour,yat_one,yat_two,yat_three)]\n",
    "dat=fread('YAL-01012019-10122021.csv')\n",
    "setnames(dat,names(dat),c('date','hour','yat_one','yat_two','yat_three'))\n",
    "dat[,datex:=strptime(date,'%d/%m/%Y')]\n",
    "dat[,tst:=ymd_hm(paste(datex,hour))]\n",
    "dat[,date:=date(tst)]\n",
    "dat[,hour:=hour(tst)]\n",
    "dat[,yat_one_t:=gsub('\\\\.','',yat_one)]\n",
    "dat[,yat_two_t:=gsub('\\\\.','',yat_two)]\n",
    "dat[,yat_three_t:=gsub('\\\\.','',yat_three)]\n",
    "dat[,yal_one:=as.numeric(gsub(',','.',yat_one_t))]\n",
    "dat[,yal_two:=as.numeric(gsub(',','.',yat_two_t))]\n",
    "dat[,yal_three:=as.numeric(gsub(',','.',yat_three_t))]\n",
    "yal_dat = dat[,list(date,hour,yal_one,yal_two,yal_three)]\n",
    "final_dat = merge(yat_dat,\n",
    "yal_dat,\n",
    "by=c(\"date\",\"hour\"),\n",
    "all=FALSE)\n",
    "total_vol = final_dat[, list(yat_vol = yat_one + yat_two + yat_three,\n",
    "yal_vol = yal_one + yal_two + yal_three,\n",
    "net_imb = (yat_one + yat_two + yat_three) - (yal_one\n",
    "+ yal_two + yal_three)), by=c(\"date\", \"hour\")]\n",
    "total_vol[, direction:=ifelse(net_imb>50, 1 , ifelse(net_imb<(-50),-1,0))]\n",
    "total_vol[, net_imb:=ifelse(net_imb<(-5000), (-5000), ifelse(net_imb>5000, 5000, net_imb))]"
   ]
  },
  {
   "cell_type": "code",
   "execution_count": 4,
   "id": "d6fca11f",
   "metadata": {},
   "outputs": [],
   "source": [
    "diff <- total_vol$net_imb - shift(total_vol$net_imb,1)\n",
    "diff[1] <- mean(diff[2:length(diff)])\n",
    "total_vol[,diff:=diff]"
   ]
  },
  {
   "cell_type": "code",
   "execution_count": null,
   "id": "4aae69ec",
   "metadata": {},
   "outputs": [],
   "source": [
    "total_vol[,t:=1:.N]\n",
    "lm_tree <- lmtree(net_imb~t | t,total_vol)\n",
    "pred_lmtree <- predict(lm_tree,total_vol)\n",
    "total_vol$lmtree <- pred_lmtree\n",
    "save(total_vol,file=\"C:/Users/kaan9/OneDrive/Masaüstü/total_vol.RData\")"
   ]
  },
  {
   "cell_type": "code",
   "execution_count": 7,
   "id": "fa8c851a",
   "metadata": {
    "scrolled": true
   },
   "outputs": [],
   "source": [
    "load(\"C:/Users/kaan9/OneDrive/Masaüstü/total_vol.RData\")"
   ]
  },
  {
   "cell_type": "code",
   "execution_count": 6,
   "id": "767952f8",
   "metadata": {},
   "outputs": [],
   "source": [
    "series <- list()\n",
    "start_hours_before <- 6\n",
    "window_sizes <- c(12,24,36)\n",
    "total_vol$raw <- total_vol$net_imb\n",
    "cols <- c(\"raw\",\"diff\",\"lmtree\")\n",
    "raw_names <- character(0)\n",
    "hour_window <- character(0)\n",
    "for(c in cols){\n",
    "    for(w in window_sizes){\n",
    "        tmp <- data.table(total_vol)\n",
    "        tmp[, paste0((start_hours_before):(w+start_hours_before-1), \"_hours_before\") := shift(tmp[[c]], (start_hours_before):(w+start_hours_before-1))]\n",
    "        tmp <- tmp[complete.cases(tmp),]\n",
    "        for(h in 12:23){\n",
    "           hour <- paste(\"hour\",as.character(h),sep=\"\")\n",
    "           window <- paste(\"window\",as.character(w),sep=\"\")\n",
    "           st <- which(colnames(tmp)==paste(start_hours_before,\"hours_before\",sep=\"_\"))\n",
    "           e <- length(colnames(tmp))\n",
    "           dir <- which(colnames(tmp)==\"direction\") \n",
    "           indices <- c(1,dir,st:e)\n",
    "           series[[paste(hour,window,c,sep=\"_\")]]  <- tmp[hour==h,..indices]\n",
    "           if(c==\"raw\"){\n",
    "               raw_names <- c(raw_names,paste(hour,window,c,sep=\"_\"))\n",
    "               hour_window <- c(hour_window,paste(hour,window,sep=\"_\"))\n",
    "           } \n",
    "        }\n",
    "    }\n",
    "}"
   ]
  },
  {
   "cell_type": "code",
   "execution_count": 9,
   "id": "4ca1b37d",
   "metadata": {},
   "outputs": [],
   "source": [
    "time_start <- Sys.time()\n",
    "for(i in 1:length(raw_names)){\n",
    "  series_long <- melt(series[[raw_names[i]]],id.vars = c(\"date\",\"direction\"))\n",
    "  long_dt <- data.table()\n",
    "  for(d in unique(series_long$date)){\n",
    "    temp_dt <- series_long[date==d,]\n",
    "    temp_tree <- rpart(value~variable,temp_dt,minbucket=1,minsplit=2)\n",
    "    temp_pred <- predict(temp_tree)\n",
    "    temp_dt$tree <- temp_pred\n",
    "    temp_dt[,t:=1:.N]\n",
    "    temp_sax <- repr_sax(temp_dt$value, q = 2, a = 4)\n",
    "    dummy_time=c(1:(length(temp_sax)-1))*2\n",
    "    dummy_time=c(dummy_time,nrow(temp_dt))  \n",
    "    dt_sax=data.table(t=dummy_time,sax_rep_char=temp_sax)\n",
    "    temp_dt <- merge(temp_dt,dt_sax,by=\"t\",all.x=T)\n",
    "    temp_dt[,sax_rep_char_num:=nafill(as.numeric(as.factor(sax_rep_char)),'nocb')] # from data.table  \n",
    "    temp_dt[,sax_rep:=mean(value),by=list(sax_rep_char_num)]  \n",
    "    long_dt <- rbind(long_dt,temp_dt)\n",
    "  }\n",
    "  series[[paste(hour_window[i],\"tree\",sep=\"_\")]] <- dcast(long_dt,date+direction~variable,value.var=\"tree\")\n",
    "  series[[paste(hour_window[i],\"sax\",sep=\"_\")]] <- dcast(long_dt,date+direction~variable,value.var=\"sax_rep\")  \n",
    "}\n",
    "save(series,file=\"C:/Users/kaan9/OneDrive/Masaüstü/series.RData\")\n",
    "time_end <- Sys.time()"
   ]
  },
  {
   "cell_type": "code",
   "execution_count": 10,
   "id": "9e666a5d",
   "metadata": {},
   "outputs": [
    {
     "data": {
      "text/plain": [
       "Time difference of 6.013768 mins"
      ]
     },
     "metadata": {},
     "output_type": "display_data"
    }
   ],
   "source": [
    "time_end-time_start"
   ]
  },
  {
   "cell_type": "code",
   "execution_count": 15,
   "id": "91c7bed7",
   "metadata": {
    "scrolled": true
   },
   "outputs": [],
   "source": [
    "load(\"C:/Users/kaan9/OneDrive/Masaüstü/series.RData\")"
   ]
  },
  {
   "cell_type": "code",
   "execution_count": 4,
   "id": "28622a09",
   "metadata": {},
   "outputs": [],
   "source": [
    "time_start1 <- Sys.time()\n",
    "distances <- list()\n",
    "for(n in names(series)[c(1,13,25)]){\n",
    " \n",
    "    distances[[paste(n,\"euc\",sep=\"_\")]] <- as.matrix(dist(series[[n]][,3:length(series[[n]])]))\n",
    "    diag(distances[[paste(n,\"euc\",sep=\"_\")]]) <- 10000\n",
    "    \n",
    "    distances[[paste(n,\"dtw\",sep=\"_\")]] <- as.matrix(dtwDist(series[[n]][(365*2):nrow(series[[n]]),3:length(series[[n]])],window.type='sakoechiba',window.size=10))\n",
    "    diag(distances[[paste(n,\"dtw\",sep=\"_\")]]) <- 10000\n",
    "    \n",
    "    distances[[paste(n,\"edr\",sep=\"_\")]] <- as.matrix(TSDatabaseDistances(series[[n]][(365*2):nrow(series[[n]]),3:length(series[[n]])],distance='erp',g=0.5))\n",
    "    diag(distances[[paste(n,\"edr\",sep=\"_\")]]) <- 10000\n",
    "    \n",
    "}\n",
    "save(distances,file=\"C:/Users/kaan9/OneDrive/Masaüstü/distances.RData\")\n",
    "time_end1 <- Sys.time()"
   ]
  },
  {
   "cell_type": "code",
   "execution_count": 11,
   "id": "dd221492",
   "metadata": {},
   "outputs": [],
   "source": [
    "time_start1 <- Sys.time()\n",
    "distances <- list()\n",
    "for(n in names(series)){\n",
    " \n",
    "    distances[[paste(n,\"euc\",sep=\"_\")]] <- as.matrix(dist(series[[n]][,3:length(series[[n]])]))\n",
    "    diag(distances[[paste(n,\"euc\",sep=\"_\")]]) <- 10000\n",
    "    \n",
    "}\n",
    "save(distances,file=\"C:/Users/kaan9/OneDrive/Masaüstü/distances.RData\")\n",
    "time_end1 <- Sys.time()"
   ]
  },
  {
   "cell_type": "code",
   "execution_count": 3,
   "id": "cad390be",
   "metadata": {},
   "outputs": [],
   "source": [
    "load(\"C:/Users/kaan9/OneDrive/Masaüstü/distances.RData\")"
   ]
  },
  {
   "cell_type": "code",
   "execution_count": 12,
   "id": "19ff0c5f",
   "metadata": {
    "scrolled": true
   },
   "outputs": [
    {
     "data": {
      "text/plain": [
       "Time difference of 1.950815 mins"
      ]
     },
     "metadata": {},
     "output_type": "display_data"
    }
   ],
   "source": [
    "time_end1 - time_start1"
   ]
  },
  {
   "cell_type": "code",
   "execution_count": 30,
   "id": "f327d774",
   "metadata": {},
   "outputs": [],
   "source": [
    "set.seed(131)\n",
    "cv_indices <- list()\n",
    "trainclasses <- list()\n",
    "for(n in names(series)){\n",
    "    \n",
    "    trainclasses[[n]] <- series[[n]]$direction\n",
    "    cv_indices[[n]] <- generateCVRuns(trainclasses[[n]], ntimes =5, nfold = 10, \n",
    "                                      leaveOneOut = FALSE, stratified = TRUE)\n",
    "}"
   ]
  },
  {
   "cell_type": "code",
   "execution_count": 5,
   "id": "c83e625f",
   "metadata": {},
   "outputs": [],
   "source": [
    "nn_classify_cv=function(dist_matrix,train_class,test_indices,k=1){\n",
    "    \n",
    "    test_distances_to_train=dist_matrix[test_indices,]\n",
    "    test_distances_to_train=test_distances_to_train[,-test_indices]\n",
    "    train_class=train_class[-test_indices]\n",
    "    #print(str(test_distances_to_train))\n",
    "    ordered_indices=apply(test_distances_to_train,1,order)\n",
    "    if(k==1){\n",
    "        nearest_class=as.numeric(train_class[as.numeric(ordered_indices[1,])])\n",
    "        nearest_class=data.table(id=test_indices,nearest_class)\n",
    "    } else {\n",
    "        nearest_class=apply(ordered_indices[1:k,],2,function(x) {train_class[x]})\n",
    "        nearest_class=data.table(id=test_indices,t(nearest_class))\n",
    "    }\n",
    "    \n",
    "    long_nn_class=melt(nearest_class,'id')\n",
    "    class_counts=long_nn_class[,.N,list(id,value)]\n",
    "    class_counts[,predicted_prob:=N/k]\n",
    "    wide_class_prob_predictions=dcast(class_counts,id~value,value.var='predicted_prob')\n",
    "    wide_class_prob_predictions[is.na(wide_class_prob_predictions)]=0\n",
    "    class_predictions=class_counts[,list(predicted=value[which.max(N)]),by=list(id)]\n",
    "    return(list(prediction=class_predictions,prob_estimates=wide_class_prob_predictions))\n",
    "    \n",
    "}"
   ]
  },
  {
   "cell_type": "code",
   "execution_count": null,
   "id": "1713f7f8",
   "metadata": {},
   "outputs": [],
   "source": [
    "time_starta <- Sys.time()\n",
    "k_levels <- c(1,3,5)\n",
    "results <- data.table(hour=character(0),model=character(0),mean_acc=numeric(0),sd_acc=numeric(0))\n",
    "for(matr in names(distances)){\n",
    "    hour <- substr(matr,start = 1,stop=gregexpr(pattern ='_',matr)[[1]][1]-1)\n",
    "    name <- substr(matr,start = 1,stop=gregexpr(pattern ='_',matr)[[1]][3]-1)\n",
    "    for(k in k_levels){\n",
    "        k_p <- paste(\"k\",as.character(k),sep=\"\")\n",
    "        acc_temp <- numeric(0)\n",
    "        for(rep in 1:5){\n",
    "            this_rep <- cv_indices[[name]][[rep]]\n",
    "            for(fold in 1:10){\n",
    "                test_indices <- this_rep[[fold]]\n",
    "                preds <- nn_classify_cv(distances[[matr]],trainclasses[[name]],\n",
    "                                        test_indices,k)$prediction$predicted\n",
    "                acc_temp <- c(acc_temp,\n",
    "                              accuracy(trainclasses[[name]][test_indices],preds))\n",
    "            }\n",
    "        }\n",
    "        results <- rbind(results,list(hour,paste(matr,k_p,sep=\"_\"),mean(acc_temp),sd(acc_temp)))\n",
    "    }\n",
    "}\n",
    "time_enda <- Sys.time()"
   ]
  },
  {
   "cell_type": "code",
   "execution_count": 51,
   "id": "af5c767a",
   "metadata": {},
   "outputs": [
    {
     "data": {
      "text/plain": [
       "Time difference of 3.254543 secs"
      ]
     },
     "metadata": {},
     "output_type": "display_data"
    }
   ],
   "source": [
    "time_enda-time_starta"
   ]
  },
  {
   "cell_type": "code",
   "execution_count": 47,
   "id": "72c64907",
   "metadata": {},
   "outputs": [
    {
     "data": {
      "text/html": [
       "<table>\n",
       "<thead><tr><th scope=col>hour</th><th scope=col>model</th><th scope=col>mean_acc</th><th scope=col>sd_acc</th></tr></thead>\n",
       "<tbody>\n",
       "\t<tr><td>hour12                    </td><td>hour12_window12_raw_euc_k1</td><td>0.5317290                 </td><td>0.04512681                </td></tr>\n",
       "\t<tr><td>hour12                    </td><td>hour12_window12_raw_euc_k3</td><td>0.5497594                 </td><td>0.04319266                </td></tr>\n",
       "\t<tr><td>hour12                    </td><td>hour12_window12_raw_euc_k5</td><td>0.5808809                 </td><td>0.03630440                </td></tr>\n",
       "</tbody>\n",
       "</table>\n"
      ],
      "text/latex": [
       "\\begin{tabular}{r|llll}\n",
       " hour & model & mean\\_acc & sd\\_acc\\\\\n",
       "\\hline\n",
       "\t hour12                             & hour12\\_window12\\_raw\\_euc\\_k1 & 0.5317290                          & 0.04512681                        \\\\\n",
       "\t hour12                             & hour12\\_window12\\_raw\\_euc\\_k3 & 0.5497594                          & 0.04319266                        \\\\\n",
       "\t hour12                             & hour12\\_window12\\_raw\\_euc\\_k5 & 0.5808809                          & 0.03630440                        \\\\\n",
       "\\end{tabular}\n"
      ],
      "text/markdown": [
       "\n",
       "| hour | model | mean_acc | sd_acc |\n",
       "|---|---|---|---|\n",
       "| hour12                     | hour12_window12_raw_euc_k1 | 0.5317290                  | 0.04512681                 |\n",
       "| hour12                     | hour12_window12_raw_euc_k3 | 0.5497594                  | 0.04319266                 |\n",
       "| hour12                     | hour12_window12_raw_euc_k5 | 0.5808809                  | 0.03630440                 |\n",
       "\n"
      ],
      "text/plain": [
       "  hour   model                      mean_acc  sd_acc    \n",
       "1 hour12 hour12_window12_raw_euc_k1 0.5317290 0.04512681\n",
       "2 hour12 hour12_window12_raw_euc_k3 0.5497594 0.04319266\n",
       "3 hour12 hour12_window12_raw_euc_k5 0.5808809 0.03630440"
      ]
     },
     "metadata": {},
     "output_type": "display_data"
    }
   ],
   "source": [
    "results"
   ]
  }
 ],
 "metadata": {
  "kernelspec": {
   "display_name": "R",
   "language": "R",
   "name": "ir"
  },
  "language_info": {
   "codemirror_mode": "r",
   "file_extension": ".r",
   "mimetype": "text/x-r-source",
   "name": "R",
   "pygments_lexer": "r",
   "version": "3.6.1"
  }
 },
 "nbformat": 4,
 "nbformat_minor": 5
}
