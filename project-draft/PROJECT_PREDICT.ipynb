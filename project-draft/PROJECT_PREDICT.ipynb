{
 "cells": [
  {
   "cell_type": "code",
   "execution_count": 7,
   "id": "5c575ef2",
   "metadata": {},
   "outputs": [],
   "source": [
    "library(data.table)\n",
    "library(repr)\n",
    "library(lubridate)\n",
    "library(rpart)\n",
    "library(partykit)\n",
    "library(ggplot2)\n",
    "library(Metrics)\n",
    "library(TSdist)\n",
    "library(dtw)\n",
    "library(TSrepr)\n",
    "library(TunePareto)\n",
    "library(caret)\n",
    "library(writexl)\n",
    "library(forecast)\n",
    "library(tidyr)\n",
    "library(randomForest)\n",
    "library(rattle)\n",
    "options(repr.plot.width=10, repr.plot.height=10)"
   ]
  },
  {
   "cell_type": "code",
   "execution_count": 8,
   "id": "b156e379",
   "metadata": {},
   "outputs": [],
   "source": [
    "dt <- fread(\"C:/Users/kaan9/OneDrive/Masaüstü/bulk_imbalance_son.csv\")\n",
    "total_vol <- data.table(dt[,c(\"date\",\"hour\",\"downRegulationZeroCoded\",\n",
    "                              \"upRegulationZeroCoded\",\"net\",\"system_direction\")])\n",
    "colnames(total_vol) <- c(\"date\",\"hour\",\"yat_vol\",\"yal_vol\",\"net_imb\",\"direction\")"
   ]
  },
  {
   "cell_type": "code",
   "execution_count": 9,
   "id": "23271576",
   "metadata": {},
   "outputs": [],
   "source": [
    "wt <- fread(\"C:/Users/kaan9/OneDrive/Masaüstü/weather_son.csv\")\n",
    "wt$loc <- paste(\"loc\",as.character(wt$lat),as.character(wt$lon),sep=\"_\")\n",
    "wt <- data.table(pivot_wider(wt[,c(1,2,7,5,6)],names_from = c(loc,variable),values_from =value))\n",
    "wt$day <- wday(wt$date)\n",
    "wt$month <- month(wt$date)\n",
    "total_vol <- wt[total_vol,on=.(date,hour)]\n",
    "total_vol$t <- 1:nrow(total_vol)\n",
    "total_vol[, direction:=ifelse(net_imb>50, \"Positive\" , ifelse(net_imb<(-50),\"Negative\",\"Neutral\"))]\n",
    "total_vol[, net_imb:=ifelse(net_imb<(-5000), (-5000), ifelse(net_imb>5000, 5000, net_imb))]"
   ]
  },
  {
   "cell_type": "code",
   "execution_count": 10,
   "id": "ce6cf8d4",
   "metadata": {
    "scrolled": true
   },
   "outputs": [
    {
     "data": {
      "text/plain": [
       "Importance of components:\n",
       "                            Comp.1      Comp.2       Comp.3      Comp.4\n",
       "Standard deviation     704.7270289 122.4732832 101.31160430 93.61372640\n",
       "Proportion of Variance   0.8477219   0.0256032   0.01751983  0.01495859\n",
       "Cumulative Proportion    0.8477219   0.8733251   0.89084489  0.90580348\n",
       "                           Comp.5      Comp.6      Comp.7       Comp.8\n",
       "Standard deviation     88.2780487 84.05383925 82.47595069 74.944001432\n",
       "Proportion of Variance  0.0133020  0.01205943  0.01161091  0.009587056\n",
       "Cumulative Proportion   0.9191055  0.93116491  0.94277582  0.952362872\n",
       "                             Comp.9      Comp.10      Comp.11      Comp.12\n",
       "Standard deviation     70.788955716 68.386011879 61.357560060 56.287399268\n",
       "Proportion of Variance  0.008553474  0.007982631  0.006426103  0.005407965\n",
       "Cumulative Proportion   0.960916346  0.968898978  0.975325081  0.980733046\n",
       "                            Comp.13      Comp.14      Comp.15    Comp.16\n",
       "Standard deviation     52.041835891 50.121809579 46.469993740 27.2629993\n",
       "Proportion of Variance  0.004622924  0.004288101  0.003686012  0.0012687\n",
       "Cumulative Proportion   0.985355970  0.989644071  0.993330083  0.9945988\n",
       "                            Comp.17      Comp.18      Comp.19      Comp.20\n",
       "Standard deviation     2.219484e+01 2.168785e+01 1.949052e+01 1.860467e+01\n",
       "Proportion of Variance 8.408445e-04 8.028686e-04 6.484229e-04 5.908206e-04\n",
       "Cumulative Proportion  9.954396e-01 9.962425e-01 9.968909e-01 9.974817e-01\n",
       "                            Comp.21      Comp.22      Comp.23      Comp.24\n",
       "Standard deviation     1.773362e+01 16.139723239 1.567333e+01 1.316588e+01\n",
       "Proportion of Variance 5.367924e-04  0.000444635 4.193091e-04 2.958771e-04\n",
       "Cumulative Proportion  9.980185e-01  0.998463167 9.988825e-01 9.991784e-01\n",
       "                            Comp.25      Comp.26      Comp.27      Comp.28\n",
       "Standard deviation     1.120857e+01 10.465679256 8.3892333634 7.128733e+00\n",
       "Proportion of Variance 2.144431e-04  0.000186959 0.0001201313 8.674335e-05\n",
       "Cumulative Proportion  9.993928e-01  0.999579755 0.9996998862 9.997866e-01\n",
       "                            Comp.29      Comp.30      Comp.31      Comp.32\n",
       "Standard deviation     6.793007e+00 5.735029e+00 3.038780e+00 2.714959e+00\n",
       "Proportion of Variance 7.876544e-05 5.614134e-05 1.576196e-05 1.258167e-05\n",
       "Cumulative Proportion  9.998654e-01 9.999215e-01 9.999373e-01 9.999499e-01\n",
       "                            Comp.33      Comp.34      Comp.35      Comp.36\n",
       "Standard deviation     2.297960e+00 2.035994e+00 1.990782e+00 1.696889e+00\n",
       "Proportion of Variance 9.013560e-06 7.075621e-06 6.764862e-06 4.914940e-06\n",
       "Cumulative Proportion  9.999589e-01 9.999660e-01 9.999727e-01 9.999776e-01\n",
       "                            Comp.37      Comp.38      Comp.39      Comp.40\n",
       "Standard deviation     1.551696e+00 1.474951e+00 1.352110e+00 1.276447e+00\n",
       "Proportion of Variance 4.109838e-06 3.713359e-06 3.120581e-06 2.781103e-06\n",
       "Cumulative Proportion  9.999818e-01 9.999855e-01 9.999886e-01 9.999914e-01\n",
       "                            Comp.41      Comp.42      Comp.43      Comp.44\n",
       "Standard deviation     1.156520e+00 1.097605e+00 1.066179e+00 8.703312e-01\n",
       "Proportion of Variance 2.283063e-06 2.056381e-06 1.940312e-06 1.292947e-06\n",
       "Cumulative Proportion  9.999937e-01 9.999957e-01 9.999977e-01 9.999989e-01\n",
       "                            Comp.45\n",
       "Standard deviation     7.856236e-01\n",
       "Proportion of Variance 1.053515e-06\n",
       "Cumulative Proportion  1.000000e+00"
      ]
     },
     "metadata": {},
     "output_type": "display_data"
    }
   ],
   "source": [
    "pca <- princomp(total_vol[,-c(\"date\",\"yat_vol\",\"yal_vol\",\"net_imb\",\"direction\",\"t\")])\n",
    "summary(pca)"
   ]
  },
  {
   "cell_type": "code",
   "execution_count": 11,
   "id": "f18bbf11",
   "metadata": {},
   "outputs": [],
   "source": [
    "total_vol[,pca1:=pca$scores[,1]]"
   ]
  },
  {
   "cell_type": "code",
   "execution_count": 12,
   "id": "a2b7ee03",
   "metadata": {},
   "outputs": [],
   "source": [
    "date_fltr <- which(total_vol$date==\"2022-01-12\")[total_vol[which(total_vol$date==\"2022-01-12\")]$hour==16]\n",
    "total_vol_train <- total_vol[1:date_fltr,]"
   ]
  },
  {
   "cell_type": "code",
   "execution_count": 8,
   "id": "b3e73c73",
   "metadata": {},
   "outputs": [],
   "source": [
    "start <- Sys.time()\n",
    "model_rf_all <- randomForest(net_imb ~.-date-yat_vol-yal_vol-direction-t-pca1,total_vol_train)\n",
    "end <- Sys.time()\n",
    "save(model_rf_all,file=\"C:/Users/kaan9/OneDrive/Masaüstü/rf_model_all.Rdata\")"
   ]
  },
  {
   "cell_type": "code",
   "execution_count": 13,
   "id": "a517b343",
   "metadata": {},
   "outputs": [
    {
     "data": {
      "text/plain": [
       "\n",
       "Call:\n",
       " randomForest(formula = net_imb ~ . - date - yat_vol - yal_vol -      direction - t - pca1, data = total_vol_train) \n",
       "               Type of random forest: regression\n",
       "                     Number of trees: 500\n",
       "No. of variables tried at each split: 15\n",
       "\n",
       "          Mean of squared residuals: 378077.6\n",
       "                    % Var explained: 62.9"
      ]
     },
     "metadata": {},
     "output_type": "display_data"
    }
   ],
   "source": [
    "model_rf_all"
   ]
  },
  {
   "cell_type": "code",
   "execution_count": null,
   "id": "43f3f20c",
   "metadata": {},
   "outputs": [],
   "source": [
    "control1 <- trainControl(method=\"cv\",\n",
    "                        number=10)\n",
    "start <- Sys.time()\n",
    "model_ranger <-  train(net_imb ~.-date-yat_vol-yal_vol-direction-t-pca1, \n",
    "                       data = total_vol_train,\n",
    "                       method = 'ranger',\n",
    "                       metric = 'RMSE',\n",
    "                       trControl = control1,\n",
    "                       tuneGrid = expand.grid(.mtry=c(15,25,35),.splitrule=\"variance\",.min.node.size=c(10,30,50)))\n",
    "end <- Sys.time()\n",
    "save(model_ranger,file=\"C:/Users/kaan9/OneDrive/Masaüstü/ranger_model.Rdata\")"
   ]
  },
  {
   "cell_type": "code",
   "execution_count": 19,
   "id": "ace672ef",
   "metadata": {
    "scrolled": true
   },
   "outputs": [
    {
     "data": {
      "text/plain": [
       "Random Forest \n",
       "\n",
       "26585 samples\n",
       "   51 predictor\n",
       "\n",
       "No pre-processing\n",
       "Resampling: Cross-Validated (10 fold) \n",
       "Summary of sample sizes: 23925, 23927, 23927, 23926, 23927, 23928, ... \n",
       "Resampling results across tuning parameters:\n",
       "\n",
       "  mtry  min.node.size  RMSE      Rsquared   MAE     \n",
       "   5    3              650.5268  0.6498134  473.3433\n",
       "   5    5              653.8487  0.6459687  476.2564\n",
       "   5    7              658.5292  0.6397895  479.8987\n",
       "  10    3              632.6367  0.6636021  460.0678\n",
       "  10    5              636.0772  0.6601107  462.6722\n",
       "  10    7              639.5813  0.6558312  465.6089\n",
       "  15    3              625.6155  0.6685003  455.0549\n",
       "  15    5              628.2432  0.6654816  456.8414\n",
       "  15    7              631.4221  0.6619813  459.5056\n",
       "\n",
       "Tuning parameter 'splitrule' was held constant at a value of variance\n",
       "RMSE was used to select the optimal model using the smallest value.\n",
       "The final values used for the model were mtry = 15, splitrule = variance\n",
       " and min.node.size = 3."
      ]
     },
     "metadata": {},
     "output_type": "display_data"
    }
   ],
   "source": [
    "model_ranger"
   ]
  },
  {
   "cell_type": "code",
   "execution_count": null,
   "id": "279f27cf",
   "metadata": {},
   "outputs": [],
   "source": [
    "control1 <- trainControl(method=\"cv\",\n",
    "                        number=10)\n",
    "start <- Sys.time()\n",
    "model_ranger_son <-  train(net_imb ~.-date-yat_vol-yal_vol-direction-t-pca1, \n",
    "                       data = total_vol_train,\n",
    "                       num.trees=500,\n",
    "                       method = 'ranger',\n",
    "                       metric = 'RMSE',\n",
    "                       trControl = control1,\n",
    "                       tuneGrid = expand.grid(.mtry=15,.splitrule=\"variance\",.min.node.size=3))\n",
    "end <- Sys.time()\n",
    "save(model_ranger_son,file=\"C:/Users/kaan9/OneDrive/Masaüstü/ranger_model_son.Rdata\")"
   ]
  },
  {
   "cell_type": "code",
   "execution_count": 21,
   "id": "b2f8142e",
   "metadata": {},
   "outputs": [
    {
     "data": {
      "text/plain": [
       "Random Forest \n",
       "\n",
       "26585 samples\n",
       "   51 predictor\n",
       "\n",
       "No pre-processing\n",
       "Resampling: Cross-Validated (10 fold) \n",
       "Summary of sample sizes: 23926, 23926, 23926, 23926, 23928, 23926, ... \n",
       "Resampling results:\n",
       "\n",
       "  RMSE      Rsquared   MAE     \n",
       "  624.4039  0.6715859  454.5149\n",
       "\n",
       "Tuning parameter 'mtry' was held constant at a value of 15\n",
       "Tuning\n",
       " parameter 'splitrule' was held constant at a value of variance\n",
       "\n",
       "Tuning parameter 'min.node.size' was held constant at a value of 3"
      ]
     },
     "metadata": {},
     "output_type": "display_data"
    }
   ],
   "source": [
    "model_ranger_son"
   ]
  },
  {
   "cell_type": "code",
   "execution_count": 13,
   "id": "a82c62a8",
   "metadata": {},
   "outputs": [],
   "source": [
    "load(\"C:/Users/kaan9/OneDrive/Masaüstü/ranger_model_son.Rdata\")"
   ]
  },
  {
   "cell_type": "code",
   "execution_count": 14,
   "id": "cf7a726b",
   "metadata": {},
   "outputs": [],
   "source": [
    "fc <- predict(model_ranger_son,total_vol)\n",
    "total_vol$rf <- fc\n",
    "total_vol <- total_vol[,c(\"date\",\"hour\",\"pca1\",\"rf\",\"direction\")]"
   ]
  },
  {
   "cell_type": "code",
   "execution_count": 15,
   "id": "f63ece01",
   "metadata": {},
   "outputs": [],
   "source": [
    "series <- list()\n",
    "start_hours_before <- 0\n",
    "window_sizes <- c(12,24,36)\n",
    "cols <- c(\"rf\",\"pca1\")\n",
    "for(c in cols){\n",
    "    for(w in window_sizes){\n",
    "        tmp <- data.table(total_vol)\n",
    "        tmp[, paste0((start_hours_before):(w+start_hours_before-1), \"_hours_before\") := shift(tmp[[c]], (start_hours_before):(w+start_hours_before-1))]\n",
    "        tmp <- tmp[complete.cases(tmp),]\n",
    "        for(h in 12:23){\n",
    "           hour <- paste(\"hour\",as.character(h),sep=\"\")\n",
    "           window <- paste(\"window\",as.character(w),sep=\"\")\n",
    "           st <- which(colnames(tmp)==paste(start_hours_before,\"hours_before\",sep=\"_\"))\n",
    "           e <- length(colnames(tmp))\n",
    "           dir <- which(colnames(tmp)==\"direction\") \n",
    "           indices <- c(1,dir,st:e)\n",
    "           series[[paste(hour,window,c,sep=\"_\")]]  <- tmp[hour==h,..indices]\n",
    "        }\n",
    "    }\n",
    "}"
   ]
  },
  {
   "cell_type": "code",
   "execution_count": 16,
   "id": "da5d5fe2",
   "metadata": {},
   "outputs": [],
   "source": [
    "time_start <- Sys.time()\n",
    "for(n in names(series)){\n",
    "  series_long <- melt(series[[n]],id.vars = c(\"date\",\"direction\"))\n",
    "  long_dt <- data.table()\n",
    "  for(d in unique(series_long$date)){\n",
    "    temp_dt <- series_long[date==d,]\n",
    "    temp_tree <- rpart(value~variable,temp_dt,minbucket=1,minsplit=2)\n",
    "    temp_pred <- predict(temp_tree)\n",
    "    temp_dt$tree <- temp_pred\n",
    "    temp_dt[,t:=1:.N]\n",
    "    temp_sax <- repr_sax(temp_dt$value, q = 2, a = 4)\n",
    "    dummy_time=c(1:(length(temp_sax)-1))*2\n",
    "    dummy_time=c(dummy_time,nrow(temp_dt))  \n",
    "    dt_sax=data.table(t=dummy_time,sax_rep_char=temp_sax)\n",
    "    temp_dt <- merge(temp_dt,dt_sax,by=\"t\",all.x=T)\n",
    "    temp_dt[,sax_rep_char_num:=nafill(as.numeric(as.factor(sax_rep_char)),'nocb')] # from data.table  \n",
    "    temp_dt[,sax_rep:=mean(value),by=list(sax_rep_char_num)]  \n",
    "    long_dt <- rbind(long_dt,temp_dt)\n",
    "  }\n",
    "  series[[paste(n,\"tree\",sep=\"\")]] <- dcast(long_dt,date+direction~variable,value.var=\"tree\")\n",
    "  series[[paste(n,\"sax\",sep=\"\")]] <- dcast(long_dt,date+direction~variable,value.var=\"sax_rep\")  \n",
    "}\n",
    "time_end <- Sys.time()"
   ]
  },
  {
   "cell_type": "code",
   "execution_count": 17,
   "id": "27ca875a",
   "metadata": {
    "scrolled": true
   },
   "outputs": [
    {
     "data": {
      "text/plain": [
       "Time difference of 11.40317 mins"
      ]
     },
     "metadata": {},
     "output_type": "display_data"
    }
   ],
   "source": [
    "time_end-time_start"
   ]
  },
  {
   "cell_type": "code",
   "execution_count": 18,
   "id": "4d7e0e05",
   "metadata": {},
   "outputs": [],
   "source": [
    "load(\"C:/Users/kaan9/OneDrive/Masaüstü/best_test.RData\")"
   ]
  },
  {
   "cell_type": "code",
   "execution_count": 19,
   "id": "f22eb98f",
   "metadata": {},
   "outputs": [],
   "source": [
    "trainclasses <- list()\n",
    "for(h in 12:23){\n",
    "    trainclasses[[as.character(h)]] <- total_vol[hour==h,]$direction\n",
    "}"
   ]
  },
  {
   "cell_type": "code",
   "execution_count": 20,
   "id": "b07de005",
   "metadata": {},
   "outputs": [],
   "source": [
    "predict_knn <- function(bestModels,date){\n",
    "    \n",
    "    today <- date\n",
    "    predictions <- character(0)\n",
    "    for(n in best_models){\n",
    "        seri <- substr(n,start = 1,stop=gregexpr(pattern ='_',n)[[1]][3]-1)\n",
    "        hour <- as.numeric(substr(n,start = 5,stop=gregexpr(pattern ='_',n)[[1]][1]-1))\n",
    "        dis <- substr(n,start = gregexpr(pattern ='_',n)[[1]][3]+1,stop=gregexpr(pattern ='_',n)[[1]][4]-1)\n",
    "        k <- as.numeric(substr(n,start = gregexpr(pattern ='_',n)[[1]][4]+2,stop=nchar(n)))\n",
    "        train_class <- trainclasses[[as.character(hour)]]   \n",
    "\n",
    "        if(dis==\"edr\"){ \n",
    "           dist_matrix <- TSDatabaseDistances(X = series[[seri]][,3:length(series[[seri]])],\n",
    "                                              Y = series[[seri]][date==today,3:length(series[[seri]])],        \n",
    "                                              distance='erp',g=0.5) \n",
    "        }else if(dis==\"dtw\"){  \n",
    "            dist_matrix <- dtwDist(mx=series[[seri]][,3:length(series[[seri]])],\n",
    "                                   my=series[[seri]][date==today,3:length(series[[seri]])],\n",
    "                                   window.type='sakoechiba',window.size=10)      \n",
    "        }else if(dis==\"euc\"){    \n",
    "            dist_matrix <- TSDatabaseDistances(X = series[[seri]][,3:length(series[[seri]])],\n",
    "                                               Y = series[[seri]][date==today,3:length(series[[seri]])],        \n",
    "                                               distance='euc')      \n",
    "        }\n",
    "\n",
    "        dist_matrix[length(dist_matrix)] <- 1000000\n",
    "        ordered_indices <- order(dist_matrix)\n",
    "        nearest_class <- train_class[ordered_indices[1:k]]\n",
    "        tmp_table <- table(nearest_class)    \n",
    "        pred <- names(which.max(tmp_table))\n",
    "        predictions <- c(predictions,pred)\n",
    "    }\n",
    "    return(predictions)\n",
    "    \n",
    "}"
   ]
  },
  {
   "cell_type": "code",
   "execution_count": 21,
   "id": "4bba8378",
   "metadata": {},
   "outputs": [
    {
     "data": {
      "text/html": [
       "<style>\n",
       ".list-inline {list-style: none; margin:0; padding: 0}\n",
       ".list-inline>li {display: inline-block}\n",
       ".list-inline>li:not(:last-child)::after {content: \"\\00b7\"; padding: 0 .5ex}\n",
       "</style>\n",
       "<ol class=list-inline><li>'Negative'</li><li>'Positive'</li><li>'Positive'</li><li>'Negative'</li><li>'Negative'</li><li>'Positive'</li><li>'Positive'</li><li>'Positive'</li><li>'Positive'</li><li>'Positive'</li><li>'Positive'</li><li>'Positive'</li></ol>\n"
      ],
      "text/latex": [
       "\\begin{enumerate*}\n",
       "\\item 'Negative'\n",
       "\\item 'Positive'\n",
       "\\item 'Positive'\n",
       "\\item 'Negative'\n",
       "\\item 'Negative'\n",
       "\\item 'Positive'\n",
       "\\item 'Positive'\n",
       "\\item 'Positive'\n",
       "\\item 'Positive'\n",
       "\\item 'Positive'\n",
       "\\item 'Positive'\n",
       "\\item 'Positive'\n",
       "\\end{enumerate*}\n"
      ],
      "text/markdown": [
       "1. 'Negative'\n",
       "2. 'Positive'\n",
       "3. 'Positive'\n",
       "4. 'Negative'\n",
       "5. 'Negative'\n",
       "6. 'Positive'\n",
       "7. 'Positive'\n",
       "8. 'Positive'\n",
       "9. 'Positive'\n",
       "10. 'Positive'\n",
       "11. 'Positive'\n",
       "12. 'Positive'\n",
       "\n",
       "\n"
      ],
      "text/plain": [
       " [1] \"Negative\" \"Positive\" \"Positive\" \"Negative\" \"Negative\" \"Positive\"\n",
       " [7] \"Positive\" \"Positive\" \"Positive\" \"Positive\" \"Positive\" \"Positive\""
      ]
     },
     "metadata": {},
     "output_type": "display_data"
    }
   ],
   "source": [
    "res <- predict_knn(best_models,\"2022-01-20\")\n",
    "res"
   ]
  },
  {
   "cell_type": "code",
   "execution_count": 26,
   "id": "f302d32f",
   "metadata": {},
   "outputs": [
    {
     "data": {
      "text/html": [
       "<style>\n",
       ".list-inline {list-style: none; margin:0; padding: 0}\n",
       ".list-inline>li {display: inline-block}\n",
       ".list-inline>li:not(:last-child)::after {content: \"\\00b7\"; padding: 0 .5ex}\n",
       "</style>\n",
       "<ol class=list-inline><li>'Negative,'</li><li>'Positive,'</li><li>'Negative,'</li><li>'Negative,'</li><li>'Negative,'</li><li>'Positive,'</li><li>'Positive,'</li><li>'Positive,'</li><li>'Positive,'</li><li>'Positive,'</li><li>'Positive,'</li><li>'Positive,'</li></ol>\n"
      ],
      "text/latex": [
       "\\begin{enumerate*}\n",
       "\\item 'Negative,'\n",
       "\\item 'Positive,'\n",
       "\\item 'Negative,'\n",
       "\\item 'Negative,'\n",
       "\\item 'Negative,'\n",
       "\\item 'Positive,'\n",
       "\\item 'Positive,'\n",
       "\\item 'Positive,'\n",
       "\\item 'Positive,'\n",
       "\\item 'Positive,'\n",
       "\\item 'Positive,'\n",
       "\\item 'Positive,'\n",
       "\\end{enumerate*}\n"
      ],
      "text/markdown": [
       "1. 'Negative,'\n",
       "2. 'Positive,'\n",
       "3. 'Negative,'\n",
       "4. 'Negative,'\n",
       "5. 'Negative,'\n",
       "6. 'Positive,'\n",
       "7. 'Positive,'\n",
       "8. 'Positive,'\n",
       "9. 'Positive,'\n",
       "10. 'Positive,'\n",
       "11. 'Positive,'\n",
       "12. 'Positive,'\n",
       "\n",
       "\n"
      ],
      "text/plain": [
       " [1] \"Negative,\" \"Positive,\" \"Negative,\" \"Negative,\" \"Negative,\" \"Positive,\"\n",
       " [7] \"Positive,\" \"Positive,\" \"Positive,\" \"Positive,\" \"Positive,\" \"Positive,\""
      ]
     },
     "metadata": {},
     "output_type": "display_data"
    }
   ],
   "source": [
    "paste(res,sep=\",\")\n",
    "apply()"
   ]
  },
  {
   "cell_type": "markdown",
   "id": "f2537824",
   "metadata": {},
   "source": [
    "#0ffdeaa3-0914-4c9d-8d26-363e1c536d2c\n",
    "https://forms.gle/Z8h5SJpxVguEsUXF6\n",
    "https://docs.google.com/spreadsheets/d/1wEZjAZrtnalIu4Y7ct2vutBU8HMAy0EQ93cZgRoWDrs\n",
    "https://docs.google.com/spreadsheets/d/1wes0Ws6-UNUcRFh3IidSABgcjCZDdANKpHQxhr4Ne-o/edit?invite=CO3mossB#gid=0"
   ]
  },
  {
   "cell_type": "code",
   "execution_count": 36,
   "id": "5b2d13c8",
   "metadata": {},
   "outputs": [],
   "source": [
    "test_start <- \"2021-12-12\"\n",
    "test_end <- \"2022-01-12\"\n",
    "test_dates <- unique(total_vol[hour %in% c(12:23),][(date>=test_start) & (date<=test_end),date])\n",
    "real <- total_vol[hour %in% c(12:23),][(date>=test_start) & (date<=test_end),direction]"
   ]
  },
  {
   "cell_type": "code",
   "execution_count": 37,
   "id": "89dea8ad",
   "metadata": {},
   "outputs": [],
   "source": [
    "preds <- character(0)\n",
    "for(d in test_dates){\n",
    "    preds <- c(preds,predict_knn(best_models,d))\n",
    "}"
   ]
  },
  {
   "cell_type": "code",
   "execution_count": 38,
   "id": "ec8b2616",
   "metadata": {},
   "outputs": [
    {
     "data": {
      "text/html": [
       "0.744791666666667"
      ],
      "text/latex": [
       "0.744791666666667"
      ],
      "text/markdown": [
       "0.744791666666667"
      ],
      "text/plain": [
       "[1] 0.7447917"
      ]
     },
     "metadata": {},
     "output_type": "display_data"
    }
   ],
   "source": [
    "Metrics::accuracy(actual = real,predicted = preds)"
   ]
  }
 ],
 "metadata": {
  "kernelspec": {
   "display_name": "R",
   "language": "R",
   "name": "ir"
  },
  "language_info": {
   "codemirror_mode": "r",
   "file_extension": ".r",
   "mimetype": "text/x-r-source",
   "name": "R",
   "pygments_lexer": "r",
   "version": "4.1.2"
  }
 },
 "nbformat": 4,
 "nbformat_minor": 5
}
