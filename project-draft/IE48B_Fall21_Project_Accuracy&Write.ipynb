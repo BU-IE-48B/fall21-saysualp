{
 "cells": [
  {
   "cell_type": "code",
   "execution_count": 8,
   "metadata": {},
   "outputs": [
    {
     "name": "stderr",
     "output_type": "stream",
     "text": [
      "Loading required package: data.table\n",
      "Warning message:\n",
      "\"package 'data.table' was built under R version 3.6.3\""
     ]
    }
   ],
   "source": [
    "require(data.table)"
   ]
  },
  {
   "cell_type": "code",
   "execution_count": 9,
   "metadata": {},
   "outputs": [],
   "source": [
    "current_folder = getwd()\n",
    "dat = fread('bulk_imbalance.csv')"
   ]
  },
  {
   "cell_type": "code",
   "execution_count": 63,
   "metadata": {},
   "outputs": [],
   "source": [
    "baseline_accuracy = function(dat, start_date, end_date){\n",
    "    \n",
    "    dat[, baseline1_prediction:=shift(system_direction, n=24, type=\"lag\")]\n",
    "    dat[, baseline2_prediction:=shift(system_direction, n=168, type=\"lag\")]\n",
    "    dat = dat[date>=start_date & date<=end_date & hour>=12]\n",
    "    \n",
    "    true_status = dat$system_direction\n",
    "    baseline1_prediction = dat$baseline1_prediction\n",
    "    baseline2_prediction = dat$baseline2_prediction\n",
    "\n",
    "    print(sprintf(\"baseline1_prediction test accuracy: %.3f percent\", 100*sum(true_status==baseline1_prediction)/length(baseline1_prediction)))\n",
    "    print(sprintf(\"baseline2_prediction test accuracy: %.3f percent\", 100*sum(true_status==baseline2_prediction)/length(baseline2_prediction)))\n",
    "}"
   ]
  },
  {
   "cell_type": "code",
   "execution_count": 67,
   "metadata": {},
   "outputs": [
    {
     "name": "stdout",
     "output_type": "stream",
     "text": [
      "[1] \"baseline1_prediction test accuracy: 40.476 percent\"\n",
      "[1] \"baseline2_prediction test accuracy: 26.190 percent\"\n"
     ]
    }
   ],
   "source": [
    "baseline_accuracy(dat, as.Date(max(dat$date))-7, as.Date(max(dat$date))-1)"
   ]
  },
  {
   "cell_type": "code",
   "execution_count": null,
   "metadata": {},
   "outputs": [],
   "source": []
  },
  {
   "cell_type": "code",
   "execution_count": 16,
   "metadata": {},
   "outputs": [],
   "source": [
    "write_results = function(vectStr) {\n",
    "    \n",
    "    current_folder = getwd()\n",
    "    file_name = paste0(\"output_\", Sys.Date())\n",
    "    if (!(file.exists(\"predictions\"))) {\n",
    "        dir.create(\"predictions\")\n",
    "    }\n",
    "    file_path = sprintf (\"%s/predictions/%s.txt\", current_folder, file_name)\n",
    "    fileConn = file(file_path)\n",
    "    writeLines(vectStr, fileConn)\n",
    "    close(fileConn)\n",
    "        \n",
    "}"
   ]
  },
  {
   "cell_type": "code",
   "execution_count": 11,
   "metadata": {},
   "outputs": [],
   "source": [
    "vectStr = paste(as.character(dat[date==\"2019-01-01\"&hour>=12]$system_direction), sep=\"' '\", collapse=\",\")"
   ]
  },
  {
   "cell_type": "code",
   "execution_count": 17,
   "metadata": {},
   "outputs": [],
   "source": [
    "write_results(vectStr)"
   ]
  }
 ],
 "metadata": {
  "kernelspec": {
   "display_name": "R",
   "language": "R",
   "name": "ir"
  },
  "language_info": {
   "codemirror_mode": "r",
   "file_extension": ".r",
   "mimetype": "text/x-r-source",
   "name": "R",
   "pygments_lexer": "r",
   "version": "3.6.1"
  }
 },
 "nbformat": 4,
 "nbformat_minor": 4
}
